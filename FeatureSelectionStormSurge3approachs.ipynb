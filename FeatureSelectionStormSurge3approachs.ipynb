{
  "nbformat": 4,
  "nbformat_minor": 0,
  "metadata": {
    "colab": {
      "provenance": []
    },
    "kernelspec": {
      "name": "python3",
      "display_name": "Python 3"
    },
    "language_info": {
      "name": "python"
    }
  },
  "cells": [
    {
      "cell_type": "code",
      "execution_count": 1,
      "metadata": {
        "colab": {
          "base_uri": "https://localhost:8080/"
        },
        "id": "phuwmMVkrFX5",
        "outputId": "9e52ead6-2d40-4764-ef1f-cdaa14e0c866"
      },
      "outputs": [
        {
          "output_type": "stream",
          "name": "stdout",
          "text": [
            "Mounted at /content/drive\n"
          ]
        }
      ],
      "source": [
        "from google.colab import drive\n",
        "drive.mount('/content/drive')"
      ]
    },
    {
      "cell_type": "code",
      "source": [
        "import numpy as np\n",
        "import pandas as pd\n",
        "from sklearn.model_selection import train_test_split\n",
        "from sklearn.feature_selection import SelectKBest, f_regression, mutual_info_regression, VarianceThreshold,SequentialFeatureSelector\n",
        "from sklearn.linear_model import LinearRegression, Lasso\n",
        "from sklearn.neural_network import MLPRegressor\n",
        "from sklearn.ensemble import RandomForestRegressor\n",
        "from sklearn.metrics import mean_squared_error, r2_score\n",
        "from sklearn.feature_selection import mutual_info_regression\n",
        "import math\n",
        "from scipy.stats.stats import pearsonr\n",
        "# Lấy dữ liệu\n",
        "import os\n",
        "train_file = '/content/drive/MyDrive/StormSurgeFS/StormVNTraining.csv'\n",
        "test_file = '/content/drive/MyDrive/StormSurgeFS/StormVNTesting.csv'\n",
        "train = pd.read_csv(train_file)\n",
        "test = pd.read_csv(test_file)\n",
        "X_train=train.drop('output', axis=1)\n",
        "y_train=train['output']\n",
        "X_test=test.drop('output', axis=1)\n",
        "y_test=test['output']\n",
        "\n",
        "# 1. Feature Selection bằng phương pháp Filter (SelectKBest với f_regression)\n",
        "k_best_f = SelectKBest(score_func=f_regression, k=7)\n",
        "X_train_kbest_f = k_best_f.fit_transform(X_train, y_train)\n",
        "X_test_kbest_f = k_best_f.transform(X_test)\n",
        "\n",
        "# 2. Feature Selection bằng phương pháp Filter (SelectKBest với mutual_info_regression)\n",
        "k_best_mi = SelectKBest(score_func=mutual_info_regression, k=7)\n",
        "X_train_kbest_mi = k_best_mi.fit_transform(X_train, y_train)\n",
        "X_test_kbest_mi = k_best_mi.transform(X_test)\n",
        "\n",
        "# 3. Feature Selection bằng phương pháp Filter (VarianceThreshold)\n",
        "var_thresh = VarianceThreshold(threshold=0.0005)\n",
        "X_train_var = var_thresh.fit_transform(X_train)\n",
        "X_test_var = var_thresh.transform(X_test)\n",
        "\n",
        "# 4. Feature Selection bằng Information Gain (mutual_info_regression)\n",
        "info_gain = mutual_info_regression(X_train, y_train)\n",
        "selected_features_ig = np.argsort(info_gain)[-7:]\n",
        "X_train_ig = X_train.iloc[:, selected_features_ig]\n",
        "X_test_ig = X_test.iloc[:, selected_features_ig]\n",
        "\n",
        "\n",
        "# 5. Feature Selection bằng Forward Feature Selection\n",
        "sfs = SequentialFeatureSelector(MLPRegressor(), n_features_to_select=7, direction='forward')\n",
        "X_train_sfs_forward = sfs.fit_transform(X_train, y_train)\n",
        "X_test_sfs_forward = sfs.transform(X_test)\n",
        "# 6. Feature Selection bằng Backward Feature Selection\n",
        "sfs_backward = SequentialFeatureSelector(MLPRegressor(), n_features_to_select=7, direction='backward')\n",
        "X_train_sfs_backward = sfs_backward.fit_transform(X_train, y_train)\n",
        "X_test_sfs_backward = sfs_backward.transform(X_test)\n",
        "# 7. Feature Selection bằng Random Forest Feature Importance\n",
        "rf = RandomForestRegressor(n_estimators=70, random_state=42)\n",
        "rf.fit(X_train, y_train)\n",
        "feature_importances = rf.feature_importances_\n",
        "selected_features_rf = np.argsort(feature_importances)[-7:]\n",
        "X_train_rf = X_train.iloc[:, selected_features_rf]\n",
        "X_test_rf = X_test.iloc[:, selected_features_rf]\n",
        "# 8. Feature Selection bằng Lasso Regression\n",
        "lasso = Lasso(alpha=0.02)\n",
        "lasso.fit(X_train, y_train)\n",
        "selected_features_lasso = np.argsort(np.abs(lasso.coef_))[-8:]\n",
        "X_train_lasso = X_train.iloc[:, selected_features_lasso]\n",
        "X_test_lasso = X_test.iloc[:, selected_features_lasso]\n",
        "\n",
        "# Huấn luyện mô hình và đánh giá\n",
        "#for name, X_train_sel, X_test_sel in zip([\n",
        "#    \"KBest f_regression\", \"KBest mutual_info\", \"VarianceThreshold\", \"Information Gain\", \"Forward Selection\", \"Backward Selection\", \"Random Forest Importance\", \"Lasso Regression\"],\n",
        "#    [X_train_kbest_f, X_train_kbest_mi, X_train_var, X_train_ig, X_train_sfs_forward, X_train_sfs_backward, X_train_rf, X_train_lasso],\n",
        "#    [X_test_kbest_f, X_test_kbest_mi, X_test_var, X_test_ig, X_test_sfs_forward, X_test_sfs_backward, X_test_rf, X_test_lasso]):\n",
        "#    #model = LinearRegression()\n",
        "#    model= MLPRegressor()\n",
        "#    model.fit(X_train_sel, y_train)\n",
        "#    y_pred = model.predict(X_test_sel)\n",
        "#    mse = math.sqrt(mean_squared_error(y_test, y_pred))/(max(y_test)-min(y_test))\n",
        "#    #nr2=r2_score(y_pred,y_test)/\n",
        "#    nr2=pearsonr(y_pred, y_test)\n",
        "#    print(f\"{name} - MSE: {mse:.4f}\")\n",
        "#    print(nr2)"
      ],
      "metadata": {
        "colab": {
          "base_uri": "https://localhost:8080/"
        },
        "id": "sfvEoY8ArHJH",
        "outputId": "391fe08f-a49a-4f01-ba52-58e88130e24b"
      },
      "execution_count": 2,
      "outputs": [
        {
          "output_type": "stream",
          "name": "stderr",
          "text": [
            "<ipython-input-2-998530a8de65>:11: DeprecationWarning: Please import `pearsonr` from the `scipy.stats` namespace; the `scipy.stats.stats` namespace is deprecated and will be removed in SciPy 2.0.0.\n",
            "  from scipy.stats.stats import pearsonr\n",
            "/usr/local/lib/python3.11/dist-packages/sklearn/neural_network/_multilayer_perceptron.py:691: ConvergenceWarning: Stochastic Optimizer: Maximum iterations (200) reached and the optimization hasn't converged yet.\n",
            "  warnings.warn(\n",
            "/usr/local/lib/python3.11/dist-packages/sklearn/neural_network/_multilayer_perceptron.py:691: ConvergenceWarning: Stochastic Optimizer: Maximum iterations (200) reached and the optimization hasn't converged yet.\n",
            "  warnings.warn(\n"
          ]
        }
      ]
    },
    {
      "cell_type": "code",
      "source": [
        "# Huấn luyện mô hình và đánh giá\n",
        "for name, X_train_sel, X_test_sel, selector  in zip([\n",
        "    \"KBest f_regression\", \"KBest mutual_info\", \"VarianceThreshold\", \"Information Gain\", \"Forward Selection\", \"Backward Selection\", \"Random Forest Importance\", \"Lasso Regression\"],\n",
        "    [X_train_kbest_f, X_train_kbest_mi, X_train_var, X_train_ig, X_train_sfs_forward, X_train_sfs_backward, X_train_rf, X_train_lasso],\n",
        "    [X_test_kbest_f, X_test_kbest_mi, X_test_var, X_test_ig, X_test_sfs_forward, X_test_sfs_backward, X_test_rf, X_test_lasso],\n",
        "    [k_best_f, k_best_mi, var_thresh, selected_features_ig, sfs, sfs_backward, selected_features_rf, selected_features_lasso]\n",
        "                                                    ):\n",
        "    #model = LinearRegression()\n",
        "    model= MLPRegressor()\n",
        "    model.fit(X_train_sel, y_train)\n",
        "     # Get feature names based on the selector type\n",
        "    if name in [\"KBest f_regression\", \"KBest mutual_info\",  \"Lasso Regression\",\"Random Forest Importance\"]:\n",
        "        # These selectors return feature indices or scores, not transformed data\n",
        "        if isinstance(selector, (SelectKBest)):\n",
        "            selected_features = selector.get_support(indices=True)\n",
        "        else:\n",
        "            selected_features = selector\n",
        "        feature_names = X_train.columns[selected_features].tolist()\n",
        "    elif name in [\"Forward Selection\", \"Backward Selection\"]:\n",
        "        # SequentialFeatureSelector has get_feature_names_out method in newer versions\n",
        "        try:\n",
        "            feature_names = selector.get_feature_names_out()\n",
        "            feature_names = feature_names.tolist()  # Convert to list if necessary\n",
        "        except AttributeError:\n",
        "            # For older versions, get selected feature indices\n",
        "            selected_features = selector.get_support(indices=True)\n",
        "            feature_names = X_train.columns[selected_features].tolist()\n",
        "    elif name == \"VarianceThreshold\":  # Add this condition for VarianceThreshold\n",
        "        feature_names = X_train.columns[selector.get_support()].tolist()\n",
        "    else: # This will handle 'Information Gain'\n",
        "        feature_names = X_train.columns[selector].tolist() # Directly use selected_features_ig\n",
        "    y_pred = model.predict(X_test_sel)\n",
        "    mse = math.sqrt(mean_squared_error(y_test, y_pred))/(max(y_test)-min(y_test))\n",
        "    #nr2=r2_score(y_pred,y_test)/\n",
        "    nr2=pearsonr(y_pred, y_test)\n",
        "    print(f\"{name} - MSE: {mse:.4f}\")\n",
        "    print(nr2)\n",
        "    print(feature_names) # Moved print statement here to show feature names"
      ],
      "metadata": {
        "colab": {
          "base_uri": "https://localhost:8080/"
        },
        "id": "2IaXgiERV1DT",
        "outputId": "69fcea10-e0d3-460a-8455-b93e63f24ade"
      },
      "execution_count": 16,
      "outputs": [
        {
          "output_type": "stream",
          "name": "stdout",
          "text": [
            "KBest f_regression - MSE: 0.1806\n",
            "PearsonRResult(statistic=0.7147154170224024, pvalue=2.8755425565641744e-13)\n",
            "['WS', 'SLP', 'DSLP', 'SSL', 'CAP', 'HWS', 'SS']\n",
            "KBest mutual_info - MSE: 0.1832\n",
            "PearsonRResult(statistic=0.7010778932707569, pvalue=1.2506143713857203e-12)\n",
            "['WS', 'WD', 'SLP', 'DSLP', 'SSL', 'LT', 'SS']\n",
            "VarianceThreshold - MSE: 0.1784\n",
            "PearsonRResult(statistic=0.7269834458595211, pvalue=7.111039173970798e-14)\n",
            "['WS', 'WD', 'DSLP', 'SSL', 'LG', 'LT', 'HWS', 'SS']\n",
            "Information Gain - MSE: 0.1847\n",
            "PearsonRResult(statistic=0.6968775137426029, pvalue=1.9346097855094963e-12)\n",
            "['SSL', 'WS', 'WD', 'LT', 'DSLP', 'SS', 'SLP']\n",
            "Forward Selection - MSE: 0.1777\n",
            "PearsonRResult(statistic=0.7261054782262567, pvalue=7.878443954691422e-14)\n",
            "['WS', 'WD', 'LG', 'LT', 'CAP', 'HWS', 'SS']\n",
            "Backward Selection - MSE: 0.1777\n",
            "PearsonRResult(statistic=0.7248606564373554, pvalue=9.104417081842465e-14)\n",
            "['WS', 'WD', 'SLP', 'LG', 'LT', 'HWS', 'SS']\n",
            "Random Forest Importance - MSE: 0.1823\n",
            "PearsonRResult(statistic=0.7152900461848516, pvalue=2.6977852858246056e-13)\n",
            "['HWS', 'SSL', 'DSLP', 'CAP', 'SLP', 'LT', 'SS']\n",
            "Lasso Regression - MSE: 0.1812\n",
            "PearsonRResult(statistic=0.7100548027849435, pvalue=4.797429062591157e-13)\n",
            "['SLP', 'DSLP', 'SSL', 'LG', 'LT', 'CAP', 'HWS', 'SS']\n"
          ]
        }
      ]
    },
    {
      "cell_type": "markdown",
      "source": [],
      "metadata": {
        "id": "mNBZibBdC2NV"
      }
    }
  ]
}